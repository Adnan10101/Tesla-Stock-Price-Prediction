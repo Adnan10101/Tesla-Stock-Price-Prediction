{
 "cells": [
  {
   "cell_type": "code",
   "execution_count": 4,
   "id": "74639c33",
   "metadata": {},
   "outputs": [],
   "source": [
    "import pandas as pd\n",
    "import numpy as np\n",
    "import matplotlib.pyplot as plt"
   ]
  },
  {
   "cell_type": "code",
   "execution_count": 5,
   "id": "aa2ae822",
   "metadata": {},
   "outputs": [
    {
     "data": {
      "text/html": [
       "<div>\n",
       "<style scoped>\n",
       "    .dataframe tbody tr th:only-of-type {\n",
       "        vertical-align: middle;\n",
       "    }\n",
       "\n",
       "    .dataframe tbody tr th {\n",
       "        vertical-align: top;\n",
       "    }\n",
       "\n",
       "    .dataframe thead th {\n",
       "        text-align: right;\n",
       "    }\n",
       "</style>\n",
       "<table border=\"1\" class=\"dataframe\">\n",
       "  <thead>\n",
       "    <tr style=\"text-align: right;\">\n",
       "      <th></th>\n",
       "      <th>Date</th>\n",
       "      <th>Open</th>\n",
       "      <th>High</th>\n",
       "      <th>Low</th>\n",
       "      <th>Close</th>\n",
       "      <th>Volume</th>\n",
       "      <th>Adj Close</th>\n",
       "    </tr>\n",
       "  </thead>\n",
       "  <tbody>\n",
       "    <tr>\n",
       "      <th>0</th>\n",
       "      <td>6/29/2010</td>\n",
       "      <td>19.000000</td>\n",
       "      <td>25.000000</td>\n",
       "      <td>17.540001</td>\n",
       "      <td>23.889999</td>\n",
       "      <td>18766300</td>\n",
       "      <td>23.889999</td>\n",
       "    </tr>\n",
       "    <tr>\n",
       "      <th>1</th>\n",
       "      <td>6/30/2010</td>\n",
       "      <td>25.790001</td>\n",
       "      <td>30.420000</td>\n",
       "      <td>23.299999</td>\n",
       "      <td>23.830000</td>\n",
       "      <td>17187100</td>\n",
       "      <td>23.830000</td>\n",
       "    </tr>\n",
       "    <tr>\n",
       "      <th>2</th>\n",
       "      <td>7/1/2010</td>\n",
       "      <td>25.000000</td>\n",
       "      <td>25.920000</td>\n",
       "      <td>20.270000</td>\n",
       "      <td>21.959999</td>\n",
       "      <td>8218800</td>\n",
       "      <td>21.959999</td>\n",
       "    </tr>\n",
       "    <tr>\n",
       "      <th>3</th>\n",
       "      <td>7/2/2010</td>\n",
       "      <td>23.000000</td>\n",
       "      <td>23.100000</td>\n",
       "      <td>18.709999</td>\n",
       "      <td>19.200001</td>\n",
       "      <td>5139800</td>\n",
       "      <td>19.200001</td>\n",
       "    </tr>\n",
       "    <tr>\n",
       "      <th>4</th>\n",
       "      <td>7/6/2010</td>\n",
       "      <td>20.000000</td>\n",
       "      <td>20.000000</td>\n",
       "      <td>15.830000</td>\n",
       "      <td>16.110001</td>\n",
       "      <td>6866900</td>\n",
       "      <td>16.110001</td>\n",
       "    </tr>\n",
       "    <tr>\n",
       "      <th>...</th>\n",
       "      <td>...</td>\n",
       "      <td>...</td>\n",
       "      <td>...</td>\n",
       "      <td>...</td>\n",
       "      <td>...</td>\n",
       "      <td>...</td>\n",
       "      <td>...</td>\n",
       "    </tr>\n",
       "    <tr>\n",
       "      <th>1687</th>\n",
       "      <td>3/13/2017</td>\n",
       "      <td>244.820007</td>\n",
       "      <td>246.850006</td>\n",
       "      <td>242.779999</td>\n",
       "      <td>246.169998</td>\n",
       "      <td>3010700</td>\n",
       "      <td>246.169998</td>\n",
       "    </tr>\n",
       "    <tr>\n",
       "      <th>1688</th>\n",
       "      <td>3/14/2017</td>\n",
       "      <td>246.110001</td>\n",
       "      <td>258.119995</td>\n",
       "      <td>246.020004</td>\n",
       "      <td>258.000000</td>\n",
       "      <td>7575500</td>\n",
       "      <td>258.000000</td>\n",
       "    </tr>\n",
       "    <tr>\n",
       "      <th>1689</th>\n",
       "      <td>3/15/2017</td>\n",
       "      <td>257.000000</td>\n",
       "      <td>261.000000</td>\n",
       "      <td>254.270004</td>\n",
       "      <td>255.729996</td>\n",
       "      <td>4816600</td>\n",
       "      <td>255.729996</td>\n",
       "    </tr>\n",
       "    <tr>\n",
       "      <th>1690</th>\n",
       "      <td>3/16/2017</td>\n",
       "      <td>262.399994</td>\n",
       "      <td>265.750000</td>\n",
       "      <td>259.059998</td>\n",
       "      <td>262.049988</td>\n",
       "      <td>7100400</td>\n",
       "      <td>262.049988</td>\n",
       "    </tr>\n",
       "    <tr>\n",
       "      <th>1691</th>\n",
       "      <td>3/17/2017</td>\n",
       "      <td>264.000000</td>\n",
       "      <td>265.329987</td>\n",
       "      <td>261.200012</td>\n",
       "      <td>261.500000</td>\n",
       "      <td>6475900</td>\n",
       "      <td>261.500000</td>\n",
       "    </tr>\n",
       "  </tbody>\n",
       "</table>\n",
       "<p>1692 rows × 7 columns</p>\n",
       "</div>"
      ],
      "text/plain": [
       "           Date        Open        High         Low       Close    Volume  \\\n",
       "0     6/29/2010   19.000000   25.000000   17.540001   23.889999  18766300   \n",
       "1     6/30/2010   25.790001   30.420000   23.299999   23.830000  17187100   \n",
       "2      7/1/2010   25.000000   25.920000   20.270000   21.959999   8218800   \n",
       "3      7/2/2010   23.000000   23.100000   18.709999   19.200001   5139800   \n",
       "4      7/6/2010   20.000000   20.000000   15.830000   16.110001   6866900   \n",
       "...         ...         ...         ...         ...         ...       ...   \n",
       "1687  3/13/2017  244.820007  246.850006  242.779999  246.169998   3010700   \n",
       "1688  3/14/2017  246.110001  258.119995  246.020004  258.000000   7575500   \n",
       "1689  3/15/2017  257.000000  261.000000  254.270004  255.729996   4816600   \n",
       "1690  3/16/2017  262.399994  265.750000  259.059998  262.049988   7100400   \n",
       "1691  3/17/2017  264.000000  265.329987  261.200012  261.500000   6475900   \n",
       "\n",
       "       Adj Close  \n",
       "0      23.889999  \n",
       "1      23.830000  \n",
       "2      21.959999  \n",
       "3      19.200001  \n",
       "4      16.110001  \n",
       "...          ...  \n",
       "1687  246.169998  \n",
       "1688  258.000000  \n",
       "1689  255.729996  \n",
       "1690  262.049988  \n",
       "1691  261.500000  \n",
       "\n",
       "[1692 rows x 7 columns]"
      ]
     },
     "execution_count": 5,
     "metadata": {},
     "output_type": "execute_result"
    }
   ],
   "source": [
    "df = pd.read_csv(\".\\datasets\\Tesla.csv\")\n",
    "df"
   ]
  },
  {
   "cell_type": "markdown",
   "id": "84d8cfa8",
   "metadata": {},
   "source": [
    "# EDA"
   ]
  },
  {
   "cell_type": "code",
   "execution_count": 31,
   "id": "60a258a9",
   "metadata": {},
   "outputs": [
    {
     "data": {
      "text/plain": [
       "(1692, 7)"
      ]
     },
     "execution_count": 31,
     "metadata": {},
     "output_type": "execute_result"
    }
   ],
   "source": [
    "df.shape"
   ]
  },
  {
   "cell_type": "code",
   "execution_count": 30,
   "id": "9959d025",
   "metadata": {},
   "outputs": [
    {
     "data": {
      "text/plain": [
       "Date         0\n",
       "Open         0\n",
       "High         0\n",
       "Low          0\n",
       "Close        0\n",
       "Volume       0\n",
       "Adj Close    0\n",
       "dtype: int64"
      ]
     },
     "execution_count": 30,
     "metadata": {},
     "output_type": "execute_result"
    }
   ],
   "source": [
    "df.isnull().sum()"
   ]
  },
  {
   "cell_type": "code",
   "execution_count": 6,
   "id": "483f02ae",
   "metadata": {},
   "outputs": [
    {
     "data": {
      "text/plain": [
       "[<matplotlib.lines.Line2D at 0x231e1151990>]"
      ]
     },
     "execution_count": 6,
     "metadata": {},
     "output_type": "execute_result"
    },
    {
     "data": {
      "image/png": "[encoded data removed]",
      "text/plain": [
       "<Figure size 432x288 with 1 Axes>"
      ]
     },
     "metadata": {
      "needs_background": "light"
     },
     "output_type": "display_data"
    }
   ],
   "source": [
    "plt.plot(df[\"Open\"])"
   ]
  },
  {
   "cell_type": "code",
   "execution_count": 7,
   "id": "37ed6813",
   "metadata": {},
   "outputs": [
    {
     "data": {
      "text/plain": [
       "[<matplotlib.lines.Line2D at 0x231e324ec50>]"
      ]
     },
     "execution_count": 7,
     "metadata": {},
     "output_type": "execute_result"
    },
    {
     "data": {
      "image/png": "[encoded data removed]",
      "text/plain": [
       "<Figure size 432x288 with 1 Axes>"
      ]
     },
     "metadata": {
      "needs_background": "light"
     },
     "output_type": "display_data"
    }
   ],
   "source": [
    "plt.plot(df[\"Open\"].tail(30))"
   ]
  },
  {
   "cell_type": "code",
   "execution_count": null,
   "id": "025e1f76",
   "metadata": {},
   "outputs": [],
   "source": [
    "# Timestamp  = 60 and  Predicting  30 values"
   ]
  },
  {
   "cell_type": "code",
   "execution_count": 8,
   "id": "b8520cdb",
   "metadata": {},
   "outputs": [
    {
     "name": "stdout",
     "output_type": "stream",
     "text": [
      "[[ 19.      ]\n",
      " [ 25.790001]\n",
      " [ 25.      ]\n",
      " ...\n",
      " [249.240005]\n",
      " [253.050003]\n",
      " [248.339996]]\n",
      "(1662, 1)\n"
     ]
    }
   ],
   "source": [
    "training_set = df.iloc[:1662,[1]].values\n",
    "print(training_set)\n",
    "print(training_set.shape)"
   ]
  },
  {
   "cell_type": "code",
   "execution_count": 10,
   "id": "7a9bb2a3",
   "metadata": {},
   "outputs": [
    {
     "name": "stdout",
     "output_type": "stream",
     "text": [
      "[[193.589996]\n",
      " [193.789993]\n",
      " [186.880005]\n",
      " [191.050003]\n",
      " [184.240005]\n",
      " [188.      ]\n",
      " [182.779999]\n",
      " [182.649994]\n",
      " [183.490005]\n",
      " [190.649994]\n",
      " [185.039993]\n",
      " [185.839996]\n",
      " [190.610001]\n",
      " [193.639999]\n",
      " [195.479996]\n",
      " [195.559998]\n",
      " [191.      ]\n",
      " [188.25    ]\n",
      " [182.880005]\n",
      " [182.509995]\n",
      " [185.520004]\n",
      " [186.149994]\n",
      " [192.050003]\n",
      " [190.869995]\n",
      " [192.800003]\n",
      " [193.179993]\n",
      " [198.740005]\n",
      " [198.410004]\n",
      " [198.080002]\n",
      " [202.490005]\n",
      " [203.050003]\n",
      " [208.449997]\n",
      " [208.220001]\n",
      " [208.      ]\n",
      " [214.880005]\n",
      " [221.529999]\n",
      " [218.559998]\n",
      " [216.300003]\n",
      " [214.860001]\n",
      " [214.75    ]\n",
      " [226.419998]\n",
      " [226.929993]\n",
      " [228.970001]\n",
      " [232.      ]\n",
      " [229.070007]\n",
      " [229.059998]\n",
      " [230.      ]\n",
      " [236.699997]\n",
      " [236.649994]\n",
      " [247.25    ]\n",
      " [245.460007]\n",
      " [245.850006]\n",
      " [250.      ]\n",
      " [257.309998]\n",
      " [254.289993]\n",
      " [251.380005]\n",
      " [252.529999]\n",
      " [249.240005]\n",
      " [253.050003]\n",
      " [248.339996]\n",
      " [251.910004]\n",
      " [251.      ]\n",
      " [258.190002]\n",
      " [257.350006]\n",
      " [266.25    ]\n",
      " [269.790009]\n",
      " [270.73999 ]\n",
      " [279.029999]\n",
      " [280.      ]\n",
      " [277.600006]\n",
      " [265.799988]\n",
      " [275.450012]\n",
      " [280.309998]\n",
      " [264.      ]\n",
      " [252.660004]\n",
      " [248.169998]\n",
      " [244.190002]\n",
      " [254.179993]\n",
      " [249.710007]\n",
      " [250.740005]\n",
      " [247.910004]\n",
      " [251.919998]\n",
      " [247.      ]\n",
      " [247.630005]\n",
      " [246.210007]\n",
      " [244.820007]\n",
      " [246.110001]\n",
      " [257.      ]\n",
      " [262.399994]\n",
      " [264.      ]]\n",
      "(90, 1)\n"
     ]
    }
   ],
   "source": [
    "testing_set = df.iloc[1602:,[1]].values\n",
    "print(testing_set)\n",
    "print(testing_set.shape)"
   ]
  },
  {
   "cell_type": "code",
   "execution_count": 11,
   "id": "1330180c",
   "metadata": {},
   "outputs": [
    {
     "name": "stdout",
     "output_type": "stream",
     "text": [
      "[[0.01053291]\n",
      " [0.03553936]\n",
      " [0.03262991]\n",
      " ...\n",
      " [0.85846866]\n",
      " [0.87250025]\n",
      " [0.85515407]]\n"
     ]
    }
   ],
   "source": [
    "from sklearn.preprocessing import MinMaxScaler\n",
    "scale = MinMaxScaler(feature_range = (0,1))\n",
    "scaled_training_set = scale.fit_transform(training_set)\n",
    "scaled_testing_set = scale.transform(testing_set)\n",
    "print(scaled_training_set)"
   ]
  },
  {
   "cell_type": "code",
   "execution_count": 12,
   "id": "9bd71fc1",
   "metadata": {},
   "outputs": [
    {
     "name": "stdout",
     "output_type": "stream",
     "text": [
      "(1602, 60)\n",
      "(1602, 60, 1)\n",
      "(1602,)\n"
     ]
    }
   ],
   "source": [
    "x_train,y_train = [],[]\n",
    "\n",
    "for i in range(60,1662):\n",
    "    x_train.append(scaled_training_set[i-60:i,0])\n",
    "    y_train.append(scaled_training_set[i,0])\n",
    "\n",
    "x_train,y_train = np.array(x_train),np.array(y_train)\n",
    "print(x_train.shape)\n",
    "x_train = x_train.reshape(x_train.shape[0],x_train.shape[1],1)\n",
    "print(x_train.shape)\n",
    "print(y_train.shape)"
   ]
  },
  {
   "cell_type": "markdown",
   "id": "8c4cd9ca",
   "metadata": {},
   "source": [
    "# Training RNN model"
   ]
  },
  {
   "cell_type": "code",
   "execution_count": 13,
   "id": "410b9b1d",
   "metadata": {},
   "outputs": [],
   "source": [
    "from keras.models import Sequential\n",
    "from keras.layers import LSTM\n",
    "from keras.layers import Dense\n",
    "from keras.layers import Dropout"
   ]
  },
  {
   "cell_type": "code",
   "execution_count": 14,
   "id": "5b857eac",
   "metadata": {},
   "outputs": [],
   "source": [
    "model = Sequential()"
   ]
  },
  {
   "cell_type": "code",
   "execution_count": 15,
   "id": "07059aac",
   "metadata": {},
   "outputs": [],
   "source": [
    "model.add(LSTM(units = 50,return_sequences = True,input_shape = (x_train.shape[1],1)))\n",
    "model.add(Dropout(0.1))\n",
    "model.add(LSTM(units = 50,return_sequences = True))\n",
    "model.add(Dropout(0.1))\n",
    "model.add(LSTM(units = 50,return_sequences = True))\n",
    "model.add(Dropout(0.1))\n",
    "model.add(LSTM(units = 50,return_sequences = True))\n",
    "model.add(Dropout(0.1))\n",
    "model.add(LSTM(units = 50))\n",
    "model.add(Dropout(0.1))"
   ]
  },
  {
   "cell_type": "code",
   "execution_count": 16,
   "id": "cd011e85",
   "metadata": {},
   "outputs": [],
   "source": [
    "model.add(Dense(units = 1))"
   ]
  },
  {
   "cell_type": "code",
   "execution_count": 17,
   "id": "a141109c",
   "metadata": {},
   "outputs": [],
   "source": [
    "model.compile(optimizer = \"adam\",loss = \"mean_squared_error\")"
   ]
  },
  {
   "cell_type": "code",
   "execution_count": 18,
   "id": "5601e829",
   "metadata": {
    "scrolled": false
   },
   "outputs": [
    {
     "name": "stdout",
     "output_type": "stream",
     "text": [
      "Epoch 1/50\n",
      "51/51 [==============================] - 24s 177ms/step - loss: 0.0415\n",
      "Epoch 2/50\n",
      "51/51 [==============================] - 9s 184ms/step - loss: 0.0055\n",
      "Epoch 3/50\n",
      "51/51 [==============================] - 10s 188ms/step - loss: 0.0048\n",
      "Epoch 4/50\n",
      "51/51 [==============================] - 8s 165ms/step - loss: 0.0050\n",
      "Epoch 5/50\n",
      "51/51 [==============================] - 8s 155ms/step - loss: 0.0052\n",
      "Epoch 6/50\n",
      "51/51 [==============================] - 10s 190ms/step - loss: 0.0040\n",
      "Epoch 7/50\n",
      "51/51 [==============================] - 8s 163ms/step - loss: 0.0038\n",
      "Epoch 8/50\n",
      "51/51 [==============================] - 9s 184ms/step - loss: 0.0035\n",
      "Epoch 9/50\n",
      "51/51 [==============================] - 10s 201ms/step - loss: 0.0031\n",
      "Epoch 10/50\n",
      "51/51 [==============================] - 9s 169ms/step - loss: 0.0031\n",
      "Epoch 11/50\n",
      "51/51 [==============================] - 9s 182ms/step - loss: 0.0035\n",
      "Epoch 12/50\n",
      "51/51 [==============================] - 9s 172ms/step - loss: 0.0037\n",
      "Epoch 13/50\n",
      "51/51 [==============================] - 9s 168ms/step - loss: 0.0032\n",
      "Epoch 14/50\n",
      "51/51 [==============================] - 8s 162ms/step - loss: 0.0030\n",
      "Epoch 15/50\n",
      "51/51 [==============================] - 8s 159ms/step - loss: 0.0027\n",
      "Epoch 16/50\n",
      "51/51 [==============================] - 8s 156ms/step - loss: 0.0032\n",
      "Epoch 17/50\n",
      "51/51 [==============================] - 9s 166ms/step - loss: 0.0029\n",
      "Epoch 18/50\n",
      "51/51 [==============================] - 10s 187ms/step - loss: 0.0023\n",
      "Epoch 19/50\n",
      "51/51 [==============================] - 8s 158ms/step - loss: 0.0027\n",
      "Epoch 20/50\n",
      "51/51 [==============================] - 8s 155ms/step - loss: 0.0024\n",
      "Epoch 21/50\n",
      "51/51 [==============================] - 8s 167ms/step - loss: 0.0028\n",
      "Epoch 22/50\n",
      "51/51 [==============================] - 11s 216ms/step - loss: 0.0025\n",
      "Epoch 23/50\n",
      "51/51 [==============================] - 11s 211ms/step - loss: 0.0032\n",
      "Epoch 24/50\n",
      "51/51 [==============================] - 9s 181ms/step - loss: 0.0027\n",
      "Epoch 25/50\n",
      "51/51 [==============================] - 9s 170ms/step - loss: 0.0023\n",
      "Epoch 26/50\n",
      "51/51 [==============================] - 10s 202ms/step - loss: 0.0028\n",
      "Epoch 27/50\n",
      "51/51 [==============================] - 11s 223ms/step - loss: 0.0025\n",
      "Epoch 28/50\n",
      "51/51 [==============================] - 10s 196ms/step - loss: 0.0022\n",
      "Epoch 29/50\n",
      "51/51 [==============================] - 9s 180ms/step - loss: 0.0022\n",
      "Epoch 30/50\n",
      "51/51 [==============================] - 10s 186ms/step - loss: 0.0022\n",
      "Epoch 31/50\n",
      "51/51 [==============================] - 10s 193ms/step - loss: 0.0019\n",
      "Epoch 32/50\n",
      "51/51 [==============================] - 10s 187ms/step - loss: 0.0020\n",
      "Epoch 33/50\n",
      "51/51 [==============================] - 10s 191ms/step - loss: 0.0021\n",
      "Epoch 34/50\n",
      "51/51 [==============================] - 11s 206ms/step - loss: 0.0018\n",
      "Epoch 35/50\n",
      "51/51 [==============================] - 11s 214ms/step - loss: 0.0022\n",
      "Epoch 36/50\n",
      "51/51 [==============================] - 9s 185ms/step - loss: 0.0019\n",
      "Epoch 37/50\n",
      "51/51 [==============================] - 11s 219ms/step - loss: 0.0018\n",
      "Epoch 38/50\n",
      "51/51 [==============================] - 11s 208ms/step - loss: 0.0016\n",
      "Epoch 39/50\n",
      "51/51 [==============================] - 10s 204ms/step - loss: 0.0018\n",
      "Epoch 40/50\n",
      "51/51 [==============================] - 9s 176ms/step - loss: 0.0020\n",
      "Epoch 41/50\n",
      "51/51 [==============================] - 10s 190ms/step - loss: 0.0017\n",
      "Epoch 42/50\n",
      "51/51 [==============================] - 9s 180ms/step - loss: 0.0015\n",
      "Epoch 43/50\n",
      "51/51 [==============================] - 9s 184ms/step - loss: 0.0017\n",
      "Epoch 44/50\n",
      "51/51 [==============================] - 9s 185ms/step - loss: 0.0017\n",
      "Epoch 45/50\n",
      "51/51 [==============================] - 8s 161ms/step - loss: 0.0018\n",
      "Epoch 46/50\n",
      "51/51 [==============================] - 8s 163ms/step - loss: 0.0017\n",
      "Epoch 47/50\n",
      "51/51 [==============================] - 9s 185ms/step - loss: 0.0017\n",
      "Epoch 48/50\n",
      "51/51 [==============================] - 8s 165ms/step - loss: 0.0015\n",
      "Epoch 49/50\n",
      "51/51 [==============================] - 9s 177ms/step - loss: 0.0017\n",
      "Epoch 50/50\n",
      "51/51 [==============================] - 9s 176ms/step - loss: 0.0018\n"
     ]
    },
    {
     "data": {
      "text/plain": [
       "<keras.callbacks.History at 0x231f9550910>"
      ]
     },
     "execution_count": 18,
     "metadata": {},
     "output_type": "execute_result"
    }
   ],
   "source": [
    "model.fit(x_train,y_train,batch_size = 32,epochs = 50)"
   ]
  },
  {
   "cell_type": "code",
   "execution_count": 19,
   "id": "8d24dcc0",
   "metadata": {},
   "outputs": [
    {
     "name": "stdout",
     "output_type": "stream",
     "text": [
      "(30, 60, 1)\n",
      "[[[0.6535189 ]\n",
      "  [0.65425546]\n",
      "  [0.62880712]\n",
      "  ...\n",
      "  [0.85846866]\n",
      "  [0.87250025]\n",
      "  [0.85515407]]\n",
      "\n",
      " [[0.65425546]\n",
      "  [0.62880712]\n",
      "  [0.64416453]\n",
      "  ...\n",
      "  [0.87250025]\n",
      "  [0.85515407]\n",
      "  [0.86830182]]\n",
      "\n",
      " [[0.62880712]\n",
      "  [0.64416453]\n",
      "  [0.61908444]\n",
      "  ...\n",
      "  [0.85515407]\n",
      "  [0.86830182]\n",
      "  [0.86495042]]\n",
      "\n",
      " ...\n",
      "\n",
      " [[0.67127019]\n",
      "  [0.67005485]\n",
      "  [0.68629616]\n",
      "  ...\n",
      "  [0.84730968]\n",
      "  [0.84219054]\n",
      "  [0.84694137]]\n",
      "\n",
      " [[0.67005485]\n",
      "  [0.68629616]\n",
      "  [0.68835854]\n",
      "  ...\n",
      "  [0.84219054]\n",
      "  [0.84694137]\n",
      "  [0.88704743]]\n",
      "\n",
      " [[0.68629616]\n",
      "  [0.68835854]\n",
      "  [0.70824582]\n",
      "  ...\n",
      "  [0.84694137]\n",
      "  [0.88704743]\n",
      "  [0.90693471]]]\n"
     ]
    }
   ],
   "source": [
    "x_test = []\n",
    "\n",
    "for i in range(60,90):\n",
    "    x_test.append(scaled_testing_set[i-60:i,0])\n",
    "\n",
    "x_test = np.array(x_test)\n",
    "x_test = x_test.reshape(x_test.shape[0],x_test.shape[1],1)\n",
    "print(x_test.shape)\n",
    "print(x_test)"
   ]
  },
  {
   "cell_type": "code",
   "execution_count": 20,
   "id": "5dda79c1",
   "metadata": {},
   "outputs": [
    {
     "data": {
      "text/plain": [
       "(30, 1)"
      ]
     },
     "execution_count": 20,
     "metadata": {},
     "output_type": "execute_result"
    }
   ],
   "source": [
    "real_values = df.iloc[1662:,[1]].values\n",
    "real_values.shape"
   ]
  },
  {
   "cell_type": "markdown",
   "id": "589f7d8c",
   "metadata": {},
   "source": [
    "# Prediction and Visualization"
   ]
  },
  {
   "cell_type": "code",
   "execution_count": 21,
   "id": "010f003a",
   "metadata": {},
   "outputs": [
    {
     "data": {
      "text/plain": [
       "array([[0.8997684 ],\n",
       "       [0.89975953],\n",
       "       [0.900913  ],\n",
       "       [0.90776074],\n",
       "       [0.9158412 ],\n",
       "       [0.9286037 ],\n",
       "       [0.9437837 ],\n",
       "       [0.95566857],\n",
       "       [0.968951  ],\n",
       "       [0.9803281 ],\n",
       "       [0.98418057],\n",
       "       [0.97190195],\n",
       "       [0.9654798 ],\n",
       "       [0.97106934],\n",
       "       [0.96583843],\n",
       "       [0.945199  ],\n",
       "       [0.9202699 ],\n",
       "       [0.89801943],\n",
       "       [0.89068455],\n",
       "       [0.8918061 ],\n",
       "       [0.8958547 ],\n",
       "       [0.8967277 ],\n",
       "       [0.897147  ],\n",
       "       [0.893566  ],\n",
       "       [0.8878938 ],\n",
       "       [0.88148844],\n",
       "       [0.8751195 ],\n",
       "       [0.871236  ],\n",
       "       [0.8784906 ],\n",
       "       [0.89639646]], dtype=float32)"
      ]
     },
     "execution_count": 21,
     "metadata": {},
     "output_type": "execute_result"
    }
   ],
   "source": [
    "predicted = model.predict(x_test)\n",
    "predicted"
   ]
  },
  {
   "cell_type": "code",
   "execution_count": 22,
   "id": "84938652",
   "metadata": {},
   "outputs": [
    {
     "data": {
      "text/plain": [
       "array([[260.45413],\n",
       "       [260.45172],\n",
       "       [260.76492],\n",
       "       [262.62427],\n",
       "       [264.81836],\n",
       "       [268.28378],\n",
       "       [272.40558],\n",
       "       [275.63272],\n",
       "       [279.2393 ],\n",
       "       [282.3285 ],\n",
       "       [283.37457],\n",
       "       [280.04053],\n",
       "       [278.29672],\n",
       "       [279.81448],\n",
       "       [278.39413],\n",
       "       [272.78992],\n",
       "       [266.0209 ],\n",
       "       [259.97922],\n",
       "       [257.98758],\n",
       "       [258.2921 ],\n",
       "       [259.39142],\n",
       "       [259.62848],\n",
       "       [259.74234],\n",
       "       [258.77   ],\n",
       "       [257.2298 ],\n",
       "       [255.49055],\n",
       "       [253.7612 ],\n",
       "       [252.70673],\n",
       "       [254.67656],\n",
       "       [259.53854]], dtype=float32)"
      ]
     },
     "execution_count": 22,
     "metadata": {},
     "output_type": "execute_result"
    }
   ],
   "source": [
    "unscaled_predicted = scale.inverse_transform(predicted)\n",
    "unscaled_predicted"
   ]
  },
  {
   "cell_type": "code",
   "execution_count": 23,
   "id": "ebfafde2",
   "metadata": {},
   "outputs": [
    {
     "data": {
      "text/plain": [
       "array([[260.45413208, 251.910004  ],\n",
       "       [260.45172119, 251.        ],\n",
       "       [260.7649231 , 258.190002  ],\n",
       "       [262.62426758, 257.350006  ],\n",
       "       [264.81835938, 266.25      ],\n",
       "       [268.28378296, 269.790009  ],\n",
       "       [272.40557861, 270.73999   ],\n",
       "       [275.63272095, 279.029999  ],\n",
       "       [279.23928833, 280.        ],\n",
       "       [282.32849121, 277.600006  ],\n",
       "       [283.37457275, 265.799988  ],\n",
       "       [280.04052734, 275.450012  ],\n",
       "       [278.29672241, 280.309998  ],\n",
       "       [279.81448364, 264.        ],\n",
       "       [278.39413452, 252.660004  ],\n",
       "       [272.78991699, 248.169998  ],\n",
       "       [266.02090454, 244.190002  ],\n",
       "       [259.97921753, 254.179993  ],\n",
       "       [257.98757935, 249.710007  ],\n",
       "       [258.29211426, 250.740005  ],\n",
       "       [259.39141846, 247.910004  ],\n",
       "       [259.628479  , 251.919998  ],\n",
       "       [259.74234009, 247.        ],\n",
       "       [258.76998901, 247.630005  ],\n",
       "       [257.22979736, 246.210007  ],\n",
       "       [255.49055481, 244.820007  ],\n",
       "       [253.76119995, 246.110001  ],\n",
       "       [252.70672607, 257.        ],\n",
       "       [254.67655945, 262.399994  ],\n",
       "       [259.5385437 , 264.        ]])"
      ]
     },
     "execution_count": 23,
     "metadata": {},
     "output_type": "execute_result"
    }
   ],
   "source": [
    "np.concatenate((unscaled_predicted,real_values),1)"
   ]
  },
  {
   "cell_type": "code",
   "execution_count": 24,
   "id": "722d451b",
   "metadata": {},
   "outputs": [
    {
     "data": {
      "text/plain": [
       "<matplotlib.legend.Legend at 0x23188750670>"
      ]
     },
     "execution_count": 24,
     "metadata": {},
     "output_type": "execute_result"
    },
    {
     "data": {
      "image/png": "[encoded data removed]",
      "text/plain": [
       "<Figure size 432x288 with 1 Axes>"
      ]
     },
     "metadata": {
      "needs_background": "light"
     },
     "output_type": "display_data"
    }
   ],
   "source": [
    "plt.plot(unscaled_predicted,c = \"r\")\n",
    "plt.plot(real_values)\n",
    "plt.xlabel('Time')\n",
    "plt.ylabel('Price (in $)')\n",
    "plt.legend(['Predicted Price','Real Price'])"
   ]
  },
  {
   "cell_type": "code",
   "execution_count": 29,
   "id": "5e3b148e",
   "metadata": {},
   "outputs": [
    {
     "data": {
      "text/plain": [
       "<matplotlib.legend.Legend at 0x231f9553e20>"
      ]
     },
     "execution_count": 29,
     "metadata": {},
     "output_type": "execute_result"
    },
    {
     "data": {
      "image/png": "[encoded data removed]",
      "text/plain": [
       "<Figure size 432x288 with 1 Axes>"
      ]
     },
     "metadata": {
      "needs_background": "light"
     },
     "output_type": "display_data"
    }
   ],
   "source": [
    "plt.plot(df[\"Open\"].tail(200))\n",
    "plt.plot(range(1662,1692),unscaled_predicted,c = \"r\")\n",
    "plt.xlabel('Time')\n",
    "plt.ylabel('Price (in $)')\n",
    "plt.legend(['Real Price','Predicted Price',])"
   ]
  },
  {
   "cell_type": "code",
   "execution_count": 28,
   "id": "2c90066b",
   "metadata": {},
   "outputs": [
    {
     "data": {
      "text/plain": [
       "<matplotlib.legend.Legend at 0x23188893700>"
      ]
     },
     "execution_count": 28,
     "metadata": {},
     "output_type": "execute_result"
    },
    {
     "data": {
      "image/png": "[encoded data removed]",
      "text/plain": [
       "<Figure size 432x288 with 1 Axes>"
      ]
     },
     "metadata": {
      "needs_background": "light"
     },
     "output_type": "display_data"
    }
   ],
   "source": [
    "plt.plot(df[\"Open\"].head(1662))\n",
    "plt.plot(range(60,1662),scale.inverse_transform(model.predict(x_train)))\n",
    "plt.xlabel('Time')\n",
    "plt.ylabel('Price (in $)')\n",
    "plt.legend(['Real Price','Predicted Price'])"
   ]
  },
  {
   "cell_type": "code",
   "execution_count": null,
   "id": "2cdd5f8f",
   "metadata": {},
   "outputs": [],
   "source": []
  },
  {
   "cell_type": "code",
   "execution_count": null,
   "id": "6a638b56",
   "metadata": {},
   "outputs": [],
   "source": []
  },
  {
   "cell_type": "code",
   "execution_count": null,
   "id": "675c5ac9",
   "metadata": {},
   "outputs": [],
   "source": []
  }
 ],
 "metadata": {
  "kernelspec": {
   "display_name": "Python 3 (ipykernel)",
   "language": "python",
   "name": "python3"
  },
  "language_info": {
   "codemirror_mode": {
    "name": "ipython",
    "version": 3
   },
   "file_extension": ".py",
   "mimetype": "text/x-python",
   "name": "python",
   "nbconvert_exporter": "python",
   "pygments_lexer": "ipython3",
   "version": "3.10.1"
  }
 },
 "nbformat": 4,
 "nbformat_minor": 5
}
